{
 "cells": [
  {
   "cell_type": "markdown",
   "metadata": {},
   "source": [
    "# HW3 Support Vector Machine and Decision Trees\n",
    "\n",
    "# Due on 11/30 23:59 pm"
   ]
  },
  {
   "cell_type": "code",
   "execution_count": 1,
   "metadata": {},
   "outputs": [],
   "source": [
    "import pandas as pd\n",
    "import numpy as np\n",
    "import matplotlib.pyplot as plt\n",
    "import seaborn as sns\n",
    "import warnings\n",
    "warnings.filterwarnings('ignore')"
   ]
  },
  {
   "cell_type": "markdown",
   "metadata": {},
   "source": [
    "## We will use the same affair dataset from HW2, but will skip the EDA phrase we have done enough of it"
   ]
  },
  {
   "cell_type": "markdown",
   "metadata": {},
   "source": [
    "#### Everything removing outliers, create dummies variabes had been done for you"
   ]
  },
  {
   "cell_type": "code",
   "execution_count": 2,
   "metadata": {},
   "outputs": [
    {
     "data": {
      "text/html": [
       "<div>\n",
       "<style scoped>\n",
       "    .dataframe tbody tr th:only-of-type {\n",
       "        vertical-align: middle;\n",
       "    }\n",
       "\n",
       "    .dataframe tbody tr th {\n",
       "        vertical-align: top;\n",
       "    }\n",
       "\n",
       "    .dataframe thead th {\n",
       "        text-align: right;\n",
       "    }\n",
       "</style>\n",
       "<table border=\"1\" class=\"dataframe\">\n",
       "  <thead>\n",
       "    <tr style=\"text-align: right;\">\n",
       "      <th></th>\n",
       "      <th>rate_marriage</th>\n",
       "      <th>age</th>\n",
       "      <th>yrs_married</th>\n",
       "      <th>children</th>\n",
       "      <th>religious</th>\n",
       "      <th>educ</th>\n",
       "      <th>had_affair</th>\n",
       "      <th>occ2</th>\n",
       "      <th>occ3</th>\n",
       "      <th>occ4</th>\n",
       "      <th>occ5</th>\n",
       "      <th>occ6</th>\n",
       "    </tr>\n",
       "  </thead>\n",
       "  <tbody>\n",
       "    <tr>\n",
       "      <th>0</th>\n",
       "      <td>3.0</td>\n",
       "      <td>32.0</td>\n",
       "      <td>9.0</td>\n",
       "      <td>3.0</td>\n",
       "      <td>3.0</td>\n",
       "      <td>17.0</td>\n",
       "      <td>1</td>\n",
       "      <td>1</td>\n",
       "      <td>0</td>\n",
       "      <td>0</td>\n",
       "      <td>0</td>\n",
       "      <td>0</td>\n",
       "    </tr>\n",
       "    <tr>\n",
       "      <th>1</th>\n",
       "      <td>3.0</td>\n",
       "      <td>27.0</td>\n",
       "      <td>13.0</td>\n",
       "      <td>3.0</td>\n",
       "      <td>1.0</td>\n",
       "      <td>14.0</td>\n",
       "      <td>1</td>\n",
       "      <td>0</td>\n",
       "      <td>1</td>\n",
       "      <td>0</td>\n",
       "      <td>0</td>\n",
       "      <td>0</td>\n",
       "    </tr>\n",
       "    <tr>\n",
       "      <th>2</th>\n",
       "      <td>4.0</td>\n",
       "      <td>22.0</td>\n",
       "      <td>2.5</td>\n",
       "      <td>0.0</td>\n",
       "      <td>1.0</td>\n",
       "      <td>16.0</td>\n",
       "      <td>1</td>\n",
       "      <td>0</td>\n",
       "      <td>1</td>\n",
       "      <td>0</td>\n",
       "      <td>0</td>\n",
       "      <td>0</td>\n",
       "    </tr>\n",
       "    <tr>\n",
       "      <th>3</th>\n",
       "      <td>4.0</td>\n",
       "      <td>37.0</td>\n",
       "      <td>16.5</td>\n",
       "      <td>4.0</td>\n",
       "      <td>3.0</td>\n",
       "      <td>16.0</td>\n",
       "      <td>1</td>\n",
       "      <td>0</td>\n",
       "      <td>0</td>\n",
       "      <td>0</td>\n",
       "      <td>1</td>\n",
       "      <td>0</td>\n",
       "    </tr>\n",
       "    <tr>\n",
       "      <th>4</th>\n",
       "      <td>5.0</td>\n",
       "      <td>27.0</td>\n",
       "      <td>9.0</td>\n",
       "      <td>1.0</td>\n",
       "      <td>1.0</td>\n",
       "      <td>14.0</td>\n",
       "      <td>1</td>\n",
       "      <td>0</td>\n",
       "      <td>1</td>\n",
       "      <td>0</td>\n",
       "      <td>0</td>\n",
       "      <td>0</td>\n",
       "    </tr>\n",
       "  </tbody>\n",
       "</table>\n",
       "</div>"
      ],
      "text/plain": [
       "   rate_marriage   age  yrs_married  children  religious  educ  had_affair  \\\n",
       "0            3.0  32.0          9.0       3.0        3.0  17.0           1   \n",
       "1            3.0  27.0         13.0       3.0        1.0  14.0           1   \n",
       "2            4.0  22.0          2.5       0.0        1.0  16.0           1   \n",
       "3            4.0  37.0         16.5       4.0        3.0  16.0           1   \n",
       "4            5.0  27.0          9.0       1.0        1.0  14.0           1   \n",
       "\n",
       "   occ2  occ3  occ4  occ5  occ6  \n",
       "0     1     0     0     0     0  \n",
       "1     0     1     0     0     0  \n",
       "2     0     1     0     0     0  \n",
       "3     0     0     0     1     0  \n",
       "4     0     1     0     0     0  "
      ]
     },
     "execution_count": 2,
     "metadata": {},
     "output_type": "execute_result"
    }
   ],
   "source": [
    "# Remember the affair data set from HW3, we will use that dataset again\n",
    "# but we will directly load from file\n",
    "orig_df = pd.read_csv(\"affairs2.csv\")\n",
    "# Set up our target class label\n",
    "orig_df['had_affair'] = orig_df['affairs'].apply(lambda x: 1 if x != 0 else 0)\n",
    "orig_df = orig_df.drop('affairs',axis=1)\n",
    "# remove NA\n",
    "orig_df.dropna(inplace=True)\n",
    "# create dummies variable for occupation\n",
    "occ = pd.get_dummies(orig_df['occupation'],drop_first=True)\n",
    "# we include rate_marriage feature as well. In HW3, we did not include that variable\n",
    "features = ['rate_marriage','age','yrs_married','children','religious','educ', 'had_affair']\n",
    "df = orig_df\n",
    "df = pd.concat([orig_df[features], occ], axis=1)\n",
    "df.head()"
   ]
  },
  {
   "cell_type": "code",
   "execution_count": 3,
   "metadata": {},
   "outputs": [
    {
     "data": {
      "text/plain": [
       "rate_marriage    0\n",
       "age              0\n",
       "yrs_married      0\n",
       "children         0\n",
       "religious        0\n",
       "educ             0\n",
       "had_affair       0\n",
       "occ2             0\n",
       "occ3             0\n",
       "occ4             0\n",
       "occ5             0\n",
       "occ6             0\n",
       "dtype: int64"
      ]
     },
     "execution_count": 3,
     "metadata": {},
     "output_type": "execute_result"
    }
   ],
   "source": [
    "# make sure there is no missing values\n",
    "df.isnull().sum()"
   ]
  },
  {
   "cell_type": "markdown",
   "metadata": {},
   "source": [
    "### Now we are ready to build models"
   ]
  },
  {
   "cell_type": "markdown",
   "metadata": {},
   "source": [
    "### Question 1: Build a classification model using SVC using linear kernel with usual steps"
   ]
  },
  {
   "cell_type": "code",
   "execution_count": 4,
   "metadata": {},
   "outputs": [
    {
     "name": "stdout",
     "output_type": "stream",
     "text": [
      "              precision    recall  f1-score   support\n",
      "\n",
      "           0       0.76      0.93      0.84       885\n",
      "           1       0.68      0.33      0.44       389\n",
      "\n",
      "    accuracy                           0.75      1274\n",
      "   macro avg       0.72      0.63      0.64      1274\n",
      "weighted avg       0.73      0.75      0.72      1274\n",
      "\n",
      "accuracy score:  0.7472527472527473\n"
     ]
    }
   ],
   "source": [
    "#import the model from sklearn import svm, create the SVC object \n",
    "from sklearn import svm \n",
    "from sklearn.model_selection import train_test_split\n",
    "from sklearn.metrics import classification_report, accuracy_score\n",
    "\n",
    "#model = svm.SVC()\n",
    "model = svm.SVC(kernel='linear')\n",
    "\n",
    "#Call Train test split\n",
    "X_train, X_test, Y_train, Y_test = train_test_split(df.drop('had_affair',axis=1), \n",
    "                                                    df['had_affair'], test_size=0.2, \n",
    "                                                    random_state=0)\n",
    "\n",
    "#print out model performance\n",
    "model.fit(X_train,Y_train)\n",
    "predictions = model.predict(X_test)\n",
    "print(classification_report(Y_test, predictions))\n",
    "print(\"accuracy score: \", accuracy_score(Y_test, predictions))"
   ]
  },
  {
   "cell_type": "markdown",
   "metadata": {},
   "source": [
    "### Question 2. Now try different value of C-parameter and rerun your model"
   ]
  },
  {
   "cell_type": "code",
   "execution_count": 5,
   "metadata": {},
   "outputs": [
    {
     "name": "stdout",
     "output_type": "stream",
     "text": [
      "              precision    recall  f1-score   support\n",
      "\n",
      "           0       0.76      0.94      0.84       885\n",
      "           1       0.69      0.32      0.43       389\n",
      "\n",
      "    accuracy                           0.75      1274\n",
      "   macro avg       0.72      0.63      0.64      1274\n",
      "weighted avg       0.74      0.75      0.71      1274\n",
      "\n",
      "accuracy score:  0.7480376766091051\n"
     ]
    }
   ],
   "source": [
    "# Try C = 2**-5 and 2**5\n",
    "model = svm.SVC(kernel='linear', C=2**-5)\n",
    "model.fit(X_train,Y_train)\n",
    "predictions = model.predict(X_test)\n",
    "print(classification_report(Y_test, predictions))\n",
    "print(\"accuracy score: \", accuracy_score(Y_test, predictions))"
   ]
  },
  {
   "cell_type": "code",
   "execution_count": 6,
   "metadata": {},
   "outputs": [
    {
     "name": "stdout",
     "output_type": "stream",
     "text": [
      "              precision    recall  f1-score   support\n",
      "\n",
      "           0       0.76      0.93      0.84       885\n",
      "           1       0.68      0.33      0.44       389\n",
      "\n",
      "    accuracy                           0.75      1274\n",
      "   macro avg       0.72      0.63      0.64      1274\n",
      "weighted avg       0.73      0.75      0.72      1274\n",
      "\n",
      "accuracy score:  0.7472527472527473\n"
     ]
    }
   ],
   "source": [
    "model = svm.SVC(kernel='linear', C=2**5)\n",
    "model.fit(X_train,Y_train)\n",
    "predictions = model.predict(X_test)\n",
    "print(classification_report(Y_test, predictions))\n",
    "print(\"accuracy score: \", accuracy_score(Y_test, predictions))"
   ]
  },
  {
   "cell_type": "markdown",
   "metadata": {},
   "source": [
    "### Question 3. Try using rbf as your kernel and use Gamma of 2**-5, 0.1, 1 and 2"
   ]
  },
  {
   "cell_type": "code",
   "execution_count": 7,
   "metadata": {},
   "outputs": [
    {
     "name": "stdout",
     "output_type": "stream",
     "text": [
      "              precision    recall  f1-score   support\n",
      "\n",
      "           0       0.75      0.93      0.83       885\n",
      "           1       0.66      0.31      0.42       389\n",
      "\n",
      "    accuracy                           0.74      1274\n",
      "   macro avg       0.71      0.62      0.63      1274\n",
      "weighted avg       0.72      0.74      0.71      1274\n",
      "\n",
      "accuracy score:  0.7401883830455259\n"
     ]
    }
   ],
   "source": [
    "# Try kernel = 'rbf' and gamma = 2**-5\n",
    "model = svm.SVC(kernel='rbf', gamma=2**-5)\n",
    "model.fit(X_train,Y_train)\n",
    "predictions = model.predict(X_test)\n",
    "print(classification_report(Y_test, predictions))\n",
    "print(\"accuracy score: \", accuracy_score(Y_test, predictions))"
   ]
  },
  {
   "cell_type": "code",
   "execution_count": 8,
   "metadata": {},
   "outputs": [
    {
     "name": "stdout",
     "output_type": "stream",
     "text": [
      "              precision    recall  f1-score   support\n",
      "\n",
      "           0       0.75      0.91      0.82       885\n",
      "           1       0.60      0.31      0.41       389\n",
      "\n",
      "    accuracy                           0.73      1274\n",
      "   macro avg       0.68      0.61      0.62      1274\n",
      "weighted avg       0.71      0.73      0.70      1274\n",
      "\n",
      "accuracy score:  0.7276295133437991\n"
     ]
    }
   ],
   "source": [
    "# Try kernel = 'rbf' and gamma = 0.1\n",
    "model = svm.SVC(kernel='rbf', gamma=0.1)\n",
    "model.fit(X_train,Y_train)\n",
    "predictions = model.predict(X_test)\n",
    "print(classification_report(Y_test, predictions))\n",
    "print(\"accuracy score: \", accuracy_score(Y_test, predictions))"
   ]
  },
  {
   "cell_type": "code",
   "execution_count": 9,
   "metadata": {},
   "outputs": [
    {
     "name": "stdout",
     "output_type": "stream",
     "text": [
      "              precision    recall  f1-score   support\n",
      "\n",
      "           0       0.73      0.88      0.80       885\n",
      "           1       0.48      0.25      0.33       389\n",
      "\n",
      "    accuracy                           0.69      1274\n",
      "   macro avg       0.61      0.57      0.57      1274\n",
      "weighted avg       0.65      0.69      0.66      1274\n",
      "\n",
      "accuracy score:  0.6891679748822606\n"
     ]
    }
   ],
   "source": [
    "# Try kernel = 'rbf' and gamma = 1\n",
    "model = svm.SVC(kernel='rbf', gamma=1)\n",
    "model.fit(X_train,Y_train)\n",
    "predictions = model.predict(X_test)\n",
    "print(classification_report(Y_test, predictions))\n",
    "print(\"accuracy score: \", accuracy_score(Y_test, predictions))"
   ]
  },
  {
   "cell_type": "code",
   "execution_count": 10,
   "metadata": {},
   "outputs": [
    {
     "name": "stdout",
     "output_type": "stream",
     "text": [
      "              precision    recall  f1-score   support\n",
      "\n",
      "           0       0.70      0.89      0.79       885\n",
      "           1       0.38      0.15      0.21       389\n",
      "\n",
      "    accuracy                           0.67      1274\n",
      "   macro avg       0.54      0.52      0.50      1274\n",
      "weighted avg       0.60      0.67      0.61      1274\n",
      "\n",
      "accuracy score:  0.6656200941915228\n"
     ]
    }
   ],
   "source": [
    "# Try kernel = 'rbf' and gamma = 2\n",
    "model = svm.SVC(kernel='rbf', gamma=2)\n",
    "model.fit(X_train,Y_train)\n",
    "predictions = model.predict(X_test)\n",
    "print(classification_report(Y_test, predictions))\n",
    "print(\"accuracy score: \", accuracy_score(Y_test, predictions))"
   ]
  },
  {
   "cell_type": "markdown",
   "metadata": {},
   "source": [
    "### Question 4. So out of all the models you try in Question 2 and 3, what is the best choice for the kernel, C and gamma parameters?"
   ]
  },
  {
   "cell_type": "markdown",
   "metadata": {},
   "source": [
    "**Answer:** The highest f1-score out of all the models I tried is model = svm.SVC(kernel='linear', C=2^5)"
   ]
  },
  {
   "cell_type": "markdown",
   "metadata": {},
   "source": [
    "# Now we will try to fit the same dataset with Decision Trees"
   ]
  },
  {
   "cell_type": "markdown",
   "metadata": {},
   "source": [
    "### Question 5. Build a Decision Tree Classifier using default parameter"
   ]
  },
  {
   "cell_type": "code",
   "execution_count": 11,
   "metadata": {},
   "outputs": [
    {
     "name": "stdout",
     "output_type": "stream",
     "text": [
      "              precision    recall  f1-score   support\n",
      "\n",
      "           0       0.74      0.81      0.77       885\n",
      "           1       0.44      0.34      0.39       389\n",
      "\n",
      "    accuracy                           0.66      1274\n",
      "   macro avg       0.59      0.58      0.58      1274\n",
      "weighted avg       0.65      0.66      0.65      1274\n",
      "\n",
      "0.6648351648351648\n"
     ]
    }
   ],
   "source": [
    "from sklearn.tree import DecisionTreeClassifier\n",
    "model = DecisionTreeClassifier()\n",
    "model.fit(X_train,Y_train)\n",
    "predictions = model.predict(X_test)\n",
    "print(classification_report(Y_test, predictions))\n",
    "print(accuracy_score(Y_test, predictions))"
   ]
  },
  {
   "cell_type": "markdown",
   "metadata": {},
   "source": [
    "### Question 6. Now try using max_depth = 2, 3, 4 and crierion = 'gini' and 'entropy' to build 3 X 2 = 6 different models"
   ]
  },
  {
   "cell_type": "code",
   "execution_count": 12,
   "metadata": {},
   "outputs": [
    {
     "name": "stdout",
     "output_type": "stream",
     "text": [
      "              precision    recall  f1-score   support\n",
      "\n",
      "           0       0.76      0.92      0.83       885\n",
      "           1       0.65      0.32      0.43       389\n",
      "\n",
      "    accuracy                           0.74      1274\n",
      "   macro avg       0.70      0.62      0.63      1274\n",
      "weighted avg       0.72      0.74      0.71      1274\n",
      "\n",
      "0.7401883830455259\n"
     ]
    }
   ],
   "source": [
    "model = DecisionTreeClassifier(criterion='gini', max_depth=2)\n",
    "model.fit(X_train,Y_train)\n",
    "predictions = model.predict(X_test)\n",
    "print(classification_report(Y_test, predictions))\n",
    "print(accuracy_score(Y_test, predictions))"
   ]
  },
  {
   "cell_type": "code",
   "execution_count": 13,
   "metadata": {},
   "outputs": [
    {
     "name": "stdout",
     "output_type": "stream",
     "text": [
      "              precision    recall  f1-score   support\n",
      "\n",
      "           0       0.75      0.93      0.83       885\n",
      "           1       0.66      0.29      0.40       389\n",
      "\n",
      "    accuracy                           0.74      1274\n",
      "   macro avg       0.70      0.61      0.61      1274\n",
      "weighted avg       0.72      0.74      0.70      1274\n",
      "\n",
      "0.7362637362637363\n"
     ]
    }
   ],
   "source": [
    "model = DecisionTreeClassifier(criterion='gini', max_depth=3)\n",
    "model.fit(X_train,Y_train)\n",
    "predictions = model.predict(X_test)\n",
    "print(classification_report(Y_test, predictions))\n",
    "print(accuracy_score(Y_test, predictions))"
   ]
  },
  {
   "cell_type": "code",
   "execution_count": 14,
   "metadata": {},
   "outputs": [
    {
     "name": "stdout",
     "output_type": "stream",
     "text": [
      "              precision    recall  f1-score   support\n",
      "\n",
      "           0       0.76      0.92      0.83       885\n",
      "           1       0.65      0.32      0.43       389\n",
      "\n",
      "    accuracy                           0.74      1274\n",
      "   macro avg       0.70      0.62      0.63      1274\n",
      "weighted avg       0.72      0.74      0.71      1274\n",
      "\n",
      "0.7394034536891679\n"
     ]
    }
   ],
   "source": [
    "model = DecisionTreeClassifier(criterion='gini', max_depth=4)\n",
    "model.fit(X_train,Y_train)\n",
    "predictions = model.predict(X_test)\n",
    "print(classification_report(Y_test, predictions))\n",
    "print(accuracy_score(Y_test, predictions))"
   ]
  },
  {
   "cell_type": "code",
   "execution_count": 15,
   "metadata": {},
   "outputs": [
    {
     "name": "stdout",
     "output_type": "stream",
     "text": [
      "              precision    recall  f1-score   support\n",
      "\n",
      "           0       0.76      0.92      0.83       885\n",
      "           1       0.65      0.32      0.43       389\n",
      "\n",
      "    accuracy                           0.74      1274\n",
      "   macro avg       0.70      0.62      0.63      1274\n",
      "weighted avg       0.72      0.74      0.71      1274\n",
      "\n",
      "0.7401883830455259\n"
     ]
    }
   ],
   "source": [
    "model = DecisionTreeClassifier(criterion='entropy', max_depth=2)\n",
    "model.fit(X_train,Y_train)\n",
    "predictions = model.predict(X_test)\n",
    "print(classification_report(Y_test, predictions))\n",
    "print(accuracy_score(Y_test, predictions))"
   ]
  },
  {
   "cell_type": "code",
   "execution_count": 16,
   "metadata": {},
   "outputs": [
    {
     "name": "stdout",
     "output_type": "stream",
     "text": [
      "              precision    recall  f1-score   support\n",
      "\n",
      "           0       0.75      0.93      0.83       885\n",
      "           1       0.66      0.29      0.40       389\n",
      "\n",
      "    accuracy                           0.74      1274\n",
      "   macro avg       0.70      0.61      0.61      1274\n",
      "weighted avg       0.72      0.74      0.70      1274\n",
      "\n",
      "0.7362637362637363\n"
     ]
    }
   ],
   "source": [
    "model = DecisionTreeClassifier(criterion='entropy', max_depth=3)\n",
    "model.fit(X_train,Y_train)\n",
    "predictions = model.predict(X_test)\n",
    "print(classification_report(Y_test, predictions))\n",
    "print(accuracy_score(Y_test, predictions))"
   ]
  },
  {
   "cell_type": "code",
   "execution_count": 17,
   "metadata": {},
   "outputs": [
    {
     "name": "stdout",
     "output_type": "stream",
     "text": [
      "              precision    recall  f1-score   support\n",
      "\n",
      "           0       0.76      0.92      0.83       885\n",
      "           1       0.65      0.32      0.43       389\n",
      "\n",
      "    accuracy                           0.74      1274\n",
      "   macro avg       0.70      0.62      0.63      1274\n",
      "weighted avg       0.72      0.74      0.71      1274\n",
      "\n",
      "0.7394034536891679\n"
     ]
    }
   ],
   "source": [
    "model = DecisionTreeClassifier(criterion='entropy', max_depth=4)\n",
    "model.fit(X_train,Y_train)\n",
    "predictions = model.predict(X_test)\n",
    "print(classification_report(Y_test, predictions))\n",
    "print(accuracy_score(Y_test, predictions))"
   ]
  },
  {
   "cell_type": "markdown",
   "metadata": {},
   "source": [
    "### Question 7. What is your obsevation from Question 6? Does the choice of the criterion important in this case? What about the max_depth? What is the best choice of max_depth and criterion?"
   ]
  },
  {
   "cell_type": "markdown",
   "metadata": {},
   "source": [
    "**Answer:** The criterion is not important in this case. The change max_depth only made slight differences in precision, recall, f1-score, and accuracy score. The best choice for max_depth is max_depth=2 and the criterion can equal either 'gini' or 'entropy'"
   ]
  },
  {
   "cell_type": "markdown",
   "metadata": {},
   "source": [
    "## Tree Visualization\n",
    "\n",
    "Scikit learn actually has some built-in visualization capabilities for decision trees, you won't use this often and it requires you to install the pydot library, but here is an example of what it looks like and the code to execute this:"
   ]
  },
  {
   "cell_type": "code",
   "execution_count": 18,
   "metadata": {},
   "outputs": [
    {
     "data": {
      "text/plain": [
       "Index(['rate_marriage', 'age', 'yrs_married', 'children', 'religious', 'educ',\n",
       "       'had_affair', 'occ2', 'occ3', 'occ4', 'occ5', 'occ6'],\n",
       "      dtype='object')"
      ]
     },
     "execution_count": 18,
     "metadata": {},
     "output_type": "execute_result"
    }
   ],
   "source": [
    "df.columns"
   ]
  },
  {
   "cell_type": "code",
   "execution_count": 19,
   "metadata": {},
   "outputs": [
    {
     "data": {
      "text/plain": [
       "['rate_marriage',\n",
       " 'age',\n",
       " 'yrs_married',\n",
       " 'children',\n",
       " 'religious',\n",
       " 'educ',\n",
       " 'had_affair']"
      ]
     },
     "execution_count": 19,
     "metadata": {},
     "output_type": "execute_result"
    }
   ],
   "source": [
    "features"
   ]
  },
  {
   "cell_type": "code",
   "execution_count": 20,
   "metadata": {
    "scrolled": true
   },
   "outputs": [],
   "source": [
    "# from IPython.display import Image  \n",
    "# from sklearn.externals.six import StringIO  \n",
    "# from sklearn.tree import export_graphviz\n",
    "# import io\n",
    "# import pydot \n",
    "\n",
    "# Pick up all featurs columns from your data frame\n",
    "# features = list(df.drop(['had_affair'],axis=1).columns)\n",
    "# features"
   ]
  },
  {
   "cell_type": "code",
   "execution_count": 21,
   "metadata": {},
   "outputs": [],
   "source": [
    "# dot_data = StringIO()  \n",
    "# export_graphviz(model, out_file=dot_data, feature_names=features)\n",
    "# (graph, ) = pydot.graph_from_dot_data(dot_data.getvalue())\n",
    "# Image(graph.create_png())"
   ]
  },
  {
   "cell_type": "markdown",
   "metadata": {},
   "source": [
    "### Question 8, now pick three models, with max_depth = 2, 3 and 4. You can pick the which ever criterions you want and visual the three trees"
   ]
  },
  {
   "cell_type": "code",
   "execution_count": 22,
   "metadata": {},
   "outputs": [],
   "source": [
    "# Hint \n",
    "# model1 = DecisionTreeClassifier(max_depth=..., criterion= ...)\n",
    "# model1.fit(X_train, y_train)\n",
    "# model2 = DecisionTreeClassifier(max_depth=..., criterion= ...)\n",
    "# model2.fit(X_train, y_train)\n",
    "# model3 = DecisionTreeClassifier(max_depth=..., criterion= ...)\n",
    "# model3.fit(X_train, y_train)\n",
    "# Then display all 3 trees"
   ]
  },
  {
   "cell_type": "code",
   "execution_count": 23,
   "metadata": {},
   "outputs": [
    {
     "data": {
      "text/plain": [
       "DecisionTreeClassifier(max_depth=4)"
      ]
     },
     "execution_count": 23,
     "metadata": {},
     "output_type": "execute_result"
    }
   ],
   "source": [
    "from sklearn import tree\n",
    "model1 = DecisionTreeClassifier(criterion='gini', max_depth=2)\n",
    "model1.fit(X_train, Y_train)\n",
    "model2 = DecisionTreeClassifier(criterion='gini', max_depth=3)\n",
    "model2.fit(X_train, Y_train)\n",
    "model3 = DecisionTreeClassifier(criterion='gini', max_depth=4)\n",
    "model3.fit(X_train, Y_train)"
   ]
  },
  {
   "cell_type": "code",
   "execution_count": 25,
   "metadata": {},
   "outputs": [
    {
     "data": {
      "text/plain": [
       "[Text(167.4, 181.2, 'X[0] <= 3.5\\ngini = 0.44\\nsamples = 5092\\nvalue = [3428, 1664]'),\n",
       " Text(83.7, 108.72, 'X[2] <= 4.25\\ngini = 0.487\\nsamples = 1163\\nvalue = [486, 677]'),\n",
       " Text(41.85, 36.23999999999998, 'gini = 0.495\\nsamples = 302\\nvalue = [166, 136]'),\n",
       " Text(125.55000000000001, 36.23999999999998, 'gini = 0.467\\nsamples = 861\\nvalue = [320, 541]'),\n",
       " Text(251.10000000000002, 108.72, 'X[2] <= 4.25\\ngini = 0.376\\nsamples = 3929\\nvalue = [2942, 987]'),\n",
       " Text(209.25, 36.23999999999998, 'gini = 0.245\\nsamples = 1609\\nvalue = [1379, 230]'),\n",
       " Text(292.95, 36.23999999999998, 'gini = 0.44\\nsamples = 2320\\nvalue = [1563, 757]')]"
      ]
     },
     "execution_count": 25,
     "metadata": {},
     "output_type": "execute_result"
    },
    {
     "data": {
      "image/png": "[encoded data removed]",
      "text/plain": [
       "<Figure size 432x288 with 1 Axes>"
      ]
     },
     "metadata": {
      "needs_background": "light"
     },
     "output_type": "display_data"
    }
   ],
   "source": [
    "tree.plot_tree(model1)"
   ]
  },
  {
   "cell_type": "code",
   "execution_count": 26,
   "metadata": {},
   "outputs": [
    {
     "data": {
      "text/plain": [
       "[Text(167.4, 190.26, 'X[0] <= 3.5\\ngini = 0.44\\nsamples = 5092\\nvalue = [3428, 1664]'),\n",
       " Text(83.7, 135.9, 'X[2] <= 4.25\\ngini = 0.487\\nsamples = 1163\\nvalue = [486, 677]'),\n",
       " Text(41.85, 81.53999999999999, 'X[2] <= 1.5\\ngini = 0.495\\nsamples = 302\\nvalue = [166, 136]'),\n",
       " Text(20.925, 27.180000000000007, 'gini = 0.298\\nsamples = 22\\nvalue = [18, 4]'),\n",
       " Text(62.775000000000006, 27.180000000000007, 'gini = 0.498\\nsamples = 280\\nvalue = [148, 132]'),\n",
       " Text(125.55000000000001, 81.53999999999999, 'X[6] <= 0.5\\ngini = 0.467\\nsamples = 861\\nvalue = [320, 541]'),\n",
       " Text(104.625, 27.180000000000007, 'gini = 0.453\\nsamples = 726\\nvalue = [252, 474]'),\n",
       " Text(146.475, 27.180000000000007, 'gini = 0.5\\nsamples = 135\\nvalue = [68, 67]'),\n",
       " Text(251.10000000000002, 135.9, 'X[2] <= 4.25\\ngini = 0.376\\nsamples = 3929\\nvalue = [2942, 987]'),\n",
       " Text(209.25, 81.53999999999999, 'X[0] <= 4.5\\ngini = 0.245\\nsamples = 1609\\nvalue = [1379, 230]'),\n",
       " Text(188.32500000000002, 27.180000000000007, 'gini = 0.32\\nsamples = 664\\nvalue = [531, 133]'),\n",
       " Text(230.175, 27.180000000000007, 'gini = 0.184\\nsamples = 945\\nvalue = [848, 97]'),\n",
       " Text(292.95, 81.53999999999999, 'X[0] <= 4.5\\ngini = 0.44\\nsamples = 2320\\nvalue = [1563, 757]'),\n",
       " Text(272.02500000000003, 27.180000000000007, 'gini = 0.485\\nsamples = 1127\\nvalue = [662, 465]'),\n",
       " Text(313.875, 27.180000000000007, 'gini = 0.37\\nsamples = 1193\\nvalue = [901, 292]')]"
      ]
     },
     "execution_count": 26,
     "metadata": {},
     "output_type": "execute_result"
    },
    {
     "data": {
      "image/png": "[encoded data removed]",
      "text/plain": [
       "<Figure size 432x288 with 1 Axes>"
      ]
     },
     "metadata": {
      "needs_background": "light"
     },
     "output_type": "display_data"
    }
   ],
   "source": [
    "tree.plot_tree(model2)"
   ]
  },
  {
   "cell_type": "code",
   "execution_count": 27,
   "metadata": {},
   "outputs": [
    {
     "data": {
      "text/plain": [
       "[Text(167.4, 195.696, 'X[0] <= 3.5\\ngini = 0.44\\nsamples = 5092\\nvalue = [3428, 1664]'),\n",
       " Text(83.7, 152.208, 'X[2] <= 4.25\\ngini = 0.487\\nsamples = 1163\\nvalue = [486, 677]'),\n",
       " Text(41.85, 108.72, 'X[2] <= 1.5\\ngini = 0.495\\nsamples = 302\\nvalue = [166, 136]'),\n",
       " Text(20.925, 65.232, 'X[4] <= 1.5\\ngini = 0.298\\nsamples = 22\\nvalue = [18, 4]'),\n",
       " Text(10.4625, 21.744, 'gini = 0.444\\nsamples = 6\\nvalue = [2, 4]'),\n",
       " Text(31.387500000000003, 21.744, 'gini = 0.0\\nsamples = 16\\nvalue = [16, 0]'),\n",
       " Text(62.775000000000006, 65.232, 'X[1] <= 29.5\\ngini = 0.498\\nsamples = 280\\nvalue = [148, 132]'),\n",
       " Text(52.3125, 21.744, 'gini = 0.5\\nsamples = 267\\nvalue = [137, 130]'),\n",
       " Text(73.2375, 21.744, 'gini = 0.26\\nsamples = 13\\nvalue = [11, 2]'),\n",
       " Text(125.55000000000001, 108.72, 'X[6] <= 0.5\\ngini = 0.467\\nsamples = 861\\nvalue = [320, 541]'),\n",
       " Text(104.625, 65.232, 'X[4] <= 2.5\\ngini = 0.453\\nsamples = 726\\nvalue = [252, 474]'),\n",
       " Text(94.16250000000001, 21.744, 'gini = 0.424\\nsamples = 410\\nvalue = [125, 285]'),\n",
       " Text(115.0875, 21.744, 'gini = 0.481\\nsamples = 316\\nvalue = [127, 189]'),\n",
       " Text(146.475, 65.232, 'X[4] <= 3.5\\ngini = 0.5\\nsamples = 135\\nvalue = [68, 67]'),\n",
       " Text(136.01250000000002, 21.744, 'gini = 0.499\\nsamples = 124\\nvalue = [59, 65]'),\n",
       " Text(156.9375, 21.744, 'gini = 0.298\\nsamples = 11\\nvalue = [9, 2]'),\n",
       " Text(251.10000000000002, 152.208, 'X[2] <= 4.25\\ngini = 0.376\\nsamples = 3929\\nvalue = [2942, 987]'),\n",
       " Text(209.25, 108.72, 'X[0] <= 4.5\\ngini = 0.245\\nsamples = 1609\\nvalue = [1379, 230]'),\n",
       " Text(188.32500000000002, 65.232, 'X[4] <= 2.5\\ngini = 0.32\\nsamples = 664\\nvalue = [531, 133]'),\n",
       " Text(177.8625, 21.744, 'gini = 0.376\\nsamples = 378\\nvalue = [283, 95]'),\n",
       " Text(198.7875, 21.744, 'gini = 0.23\\nsamples = 286\\nvalue = [248, 38]'),\n",
       " Text(230.175, 65.232, 'X[2] <= 1.5\\ngini = 0.184\\nsamples = 945\\nvalue = [848, 97]'),\n",
       " Text(219.7125, 21.744, 'gini = 0.0\\nsamples = 175\\nvalue = [175, 0]'),\n",
       " Text(240.63750000000002, 21.744, 'gini = 0.22\\nsamples = 770\\nvalue = [673, 97]'),\n",
       " Text(292.95, 108.72, 'X[0] <= 4.5\\ngini = 0.44\\nsamples = 2320\\nvalue = [1563, 757]'),\n",
       " Text(272.02500000000003, 65.232, 'X[8] <= 0.5\\ngini = 0.485\\nsamples = 1127\\nvalue = [662, 465]'),\n",
       " Text(261.5625, 21.744, 'gini = 0.496\\nsamples = 792\\nvalue = [433, 359]'),\n",
       " Text(282.4875, 21.744, 'gini = 0.433\\nsamples = 335\\nvalue = [229, 106]'),\n",
       " Text(313.875, 65.232, 'X[4] <= 1.5\\ngini = 0.37\\nsamples = 1193\\nvalue = [901, 292]'),\n",
       " Text(303.4125, 21.744, 'gini = 0.474\\nsamples = 166\\nvalue = [102, 64]'),\n",
       " Text(324.33750000000003, 21.744, 'gini = 0.345\\nsamples = 1027\\nvalue = [799, 228]')]"
      ]
     },
     "execution_count": 27,
     "metadata": {},
     "output_type": "execute_result"
    },
    {
     "data": {
      "image/png": "[encoded data removed]",
      "text/plain": [
       "<Figure size 432x288 with 1 Axes>"
      ]
     },
     "metadata": {
      "needs_background": "light"
     },
     "output_type": "display_data"
    }
   ],
   "source": [
    "tree.plot_tree(model3) "
   ]
  },
  {
   "cell_type": "markdown",
   "metadata": {},
   "source": [
    "### Question 9. Now build a Random Forest Classifier with, say, 100 trees. Check the model performance "
   ]
  },
  {
   "cell_type": "code",
   "execution_count": 28,
   "metadata": {},
   "outputs": [
    {
     "name": "stdout",
     "output_type": "stream",
     "text": [
      "              precision    recall  f1-score   support\n",
      "\n",
      "           0       0.76      0.81      0.78       885\n",
      "           1       0.48      0.41      0.44       389\n",
      "\n",
      "    accuracy                           0.69      1274\n",
      "   macro avg       0.62      0.61      0.61      1274\n",
      "weighted avg       0.67      0.69      0.68      1274\n",
      "\n",
      "0.6868131868131868\n"
     ]
    }
   ],
   "source": [
    "from sklearn.ensemble import RandomForestClassifier\n",
    "rfc = RandomForestClassifier(n_estimators=100)\n",
    "rfc.fit(X_train, Y_train)\n",
    "rfc_pred = rfc.predict(X_test)\n",
    "print(classification_report(Y_test, rfc_pred))\n",
    "print(accuracy_score(Y_test, rfc_pred))"
   ]
  }
 ],
 "metadata": {
  "kernelspec": {
   "display_name": "Python 3",
   "language": "python",
   "name": "python3"
  },
  "language_info": {
   "codemirror_mode": {
    "name": "ipython",
    "version": 3
   },
   "file_extension": ".py",
   "mimetype": "text/x-python",
   "name": "python",
   "nbconvert_exporter": "python",
   "pygments_lexer": "ipython3",
   "version": "3.8.3"
  }
 },
 "nbformat": 4,
 "nbformat_minor": 2
}
